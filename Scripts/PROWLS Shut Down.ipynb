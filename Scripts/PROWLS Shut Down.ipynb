{
 "cells": [
  {
   "cell_type": "code",
   "execution_count": 1,
   "id": "f630d6d5-c96b-466f-b406-a80008c45864",
   "metadata": {},
   "outputs": [],
   "source": [
    "from toptica.lasersdk.client import Client, SerialConnection\n",
    "import time\n",
    "from time import sleep\n",
    "dlc_connection_port = 'COM3'\n",
    "with Client(SerialConnection(dlc_connection_port)) as client:\n",
    "    client.set('lockin:mod-out-amplitude', 0)\n",
    "    client.set('lockin:mod-out-offset', 0)\n",
    "    #wait 5 secs for DLC smart to adjust\n",
    "    time.sleep(5)\n",
    "    client.set('laser-operation:emission-global-enable', False)"
   ]
  },
  {
   "cell_type": "code",
   "execution_count": null,
   "id": "7f02b77e-0a12-4732-b691-d6b82dd5b428",
   "metadata": {},
   "outputs": [],
   "source": []
  }
 ],
 "metadata": {
  "kernelspec": {
   "display_name": "anl",
   "language": "python",
   "name": "anl"
  },
  "language_info": {
   "codemirror_mode": {
    "name": "ipython",
    "version": 3
   },
   "file_extension": ".py",
   "mimetype": "text/x-python",
   "name": "python",
   "nbconvert_exporter": "python",
   "pygments_lexer": "ipython3",
   "version": "3.12.3"
  }
 },
 "nbformat": 4,
 "nbformat_minor": 5
}
