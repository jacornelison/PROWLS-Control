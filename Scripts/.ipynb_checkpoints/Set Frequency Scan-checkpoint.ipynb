{
 "cells": [
  {
   "cell_type": "code",
   "execution_count": 1,
   "id": "424b080a-8eb2-4b6e-9fa5-2d73b42bd419",
   "metadata": {},
   "outputs": [],
   "source": [
    "#Imports\n",
    "import base64\n",
    "import sys\n",
    "import time\n",
    "import pandas as pd\n",
    "import matplotlib.pyplot as plt\n",
    "import pyvisa\n",
    "import logging\n",
    "from time import sleep\n",
    "from toptica.lasersdk.client import Client, SerialConnection, UserLevel, Subscription, Timestamp, SubscriptionValue"
   ]
  },
  {
   "cell_type": "code",
   "execution_count": 2,
   "id": "b0712d44-e1e6-410f-ad14-eabd4e9716be",
   "metadata": {},
   "outputs": [],
   "source": [
    "#Configuration Variables\n",
    "log_file = \"../Data/folder/Logs/file.log\" #name of log file\n",
    "plot_file = '../Data/folder/Plots/file.png' #name of plot file\n",
    "csv_file = '../Data/folder/Tables/file.csv' #name of csv file\n",
    "warm_up_time = 0 #In seconds, how long PROWLS should wait at desired settings before taking data\n",
    "power_down = False #True or False, if PROWLS should power down after data acquisition\n",
    "lockin_address = 'GPIB::8::INSTR' #connection to DLC Smart\n",
    "dlc_connection_port = 'COM3' #connection to lock-in amplifier\n",
    "bias_frequency = 1000 #in Hz, the bias frequency of DLC Smart and the lock-in amplifier\n",
    "sensitivity_setting = 15 #lock-in sensitivity setting, specifics found in SR830 manual \n",
    "set_frequency = 180 #in GHz, the desired frequency of the DLC Smart to measure at \n",
    "time_constant = 8 #lock-in time constant setting, specifics found in SR830 manual\n",
    "low_pass_filter = 0 #lock-in low pass filter slope setting, specifics found in SR830 manual\n",
    "sampling_rate =  1 #in samples/second, the sampling rate\n",
    "total_duration = 1800 #in seconds, how long PROWLS will take data for\n",
    "time_interval = 1/sampling_rate"
   ]
  },
  {
   "cell_type": "code",
   "execution_count": null,
   "id": "3202bfd4-9276-4c91-9170-2ae49de567cc",
   "metadata": {},
   "outputs": [],
   "source": [
    "#Ensure directories exist for files\n",
    "for file_path in [log_file, plot_file, csv_file]:\n",
    "    directory = os.path.dirname(file_path)\n",
    "    if not os.path.exists(directory):\n",
    "        os.makedirs(directory)"
   ]
  },
  {
   "cell_type": "code",
   "execution_count": 3,
   "id": "8b268fee-dedc-4068-81ed-8a8b06748ff3",
   "metadata": {},
   "outputs": [],
   "source": [
    "#Configure logging\n",
    "logging.basicConfig(filename = log_file, level = logging.INFO, format = '%(asctime)s - %(levelname)s - %(message)s')\n",
    "def log_and_print(message):\n",
    "    logging.info(message)\n",
    "    print(message)"
   ]
  },
  {
   "cell_type": "code",
   "execution_count": 4,
   "id": "0a92514f-0f61-4bf9-93fe-335701bfe6c8",
   "metadata": {},
   "outputs": [
    {
     "name": "stdout",
     "output_type": "stream",
     "text": [
      "Connected to: Stanford_Research_Systems,SR830,s/n46458,ver1.07 \n",
      "\n"
     ]
    }
   ],
   "source": [
    "#Set up connection with lock-in amplifier\n",
    "rm = pyvisa.ResourceManager()\n",
    "lockin = rm.open_resource(lockin_address)\n",
    "idn = lockin.query('*IDN?')\n",
    "log_and_print(f'Connected to: {idn}')"
   ]
  },
  {
   "cell_type": "code",
   "execution_count": 5,
   "id": "8bb3ea5f-30d2-464e-a70c-b40cd7e158dc",
   "metadata": {},
   "outputs": [
    {
     "name": "stdout",
     "output_type": "stream",
     "text": [
      "Connected to: DLCsmartTHz\n",
      "Current User Level: 3\n"
     ]
    }
   ],
   "source": [
    "#Set up connection with DLC smart and check user level\n",
    "with Client(SerialConnection(dlc_connection_port)) as client:\n",
    "    user_level = client.get('ul')\n",
    "    dlc_smart = client.get('general:system-type')\n",
    "    log_and_print(f'Connected to: {dlc_smart}')\n",
    "    log_and_print(f\"Current User Level: {user_level}\")"
   ]
  },
  {
   "cell_type": "code",
   "execution_count": 6,
   "id": "1980a998-21bf-4365-a9b8-2c60f55841cf",
   "metadata": {},
   "outputs": [
    {
     "name": "stdout",
     "output_type": "stream",
     "text": [
      "Lasers on: True\n"
     ]
    }
   ],
   "source": [
    "#Turn on lasers (check emission lights)\n",
    "#If lasers do not power on, check the frontkey and user level\n",
    "with Client(SerialConnection(dlc_connection_port)) as client:\n",
    "    client.set('laser-operation:emission-global-enable', True)\n",
    "    log_and_print(f'Lasers on: {client.get('laser-operation:emission-global-enable')}')\n",
    "#Wait 5 seconds for lasers to adjust\n",
    "time.sleep(5)"
   ]
  },
  {
   "cell_type": "code",
   "execution_count": 7,
   "id": "4581a56b-ed26-4aae-bee1-2ef0b355892a",
   "metadata": {},
   "outputs": [
    {
     "name": "stdout",
     "output_type": "stream",
     "text": [
      "Current DLC Smart Bias Amplitude (V): 0.800018310546875\n",
      "Current DLC Smart Bias Offset (V): -0.30002441704309607\n",
      "Current DLC Smart Bias Frequency (Hz): 1000\n"
     ]
    }
   ],
   "source": [
    "#Set DLC Smart bias amplitude (0.8V), offset (-0.30V), and frequency\n",
    "with Client(SerialConnection(dlc_connection_port)) as client:\n",
    "    client.set('lockin:mod-out-amplitude', 0.80) \n",
    "    client.set('lockin:mod-out-offset', -0.30)\n",
    "    client.set('lockin:frequency', bias_frequency)\n",
    "    log_and_print(f\"Current DLC Smart Bias Amplitude (V): {client.get('lockin:mod-out-amplitude')}\")\n",
    "    log_and_print(f\"Current DLC Smart Bias Offset (V): {client.get('lockin:mod-out-offset')}\")\n",
    "    log_and_print(f\"Current DLC Smart Bias Frequency (Hz): {client.get('lockin:frequency')}\")\n",
    "#wait 5 seconds for DLC smart to adjust\n",
    "time.sleep(5)"
   ]
  },
  {
   "cell_type": "code",
   "execution_count": 8,
   "id": "74d7edca-1652-4af7-b673-ce4de057439c",
   "metadata": {},
   "outputs": [
    {
     "name": "stdout",
     "output_type": "stream",
     "text": [
      "Current Laser Frequency (GHz): 180.0042109459173\n"
     ]
    }
   ],
   "source": [
    "#Set laser frequency\n",
    "with Client(SerialConnection(dlc_connection_port)) as client:\n",
    "    client.set('frequency:frequency-set', set_frequency)\n",
    "    log_and_print(f\"Current Laser Frequency (GHz): {client.get('frequency:frequency-act')}\")"
   ]
  },
  {
   "cell_type": "code",
   "execution_count": 9,
   "id": "baadb77d-0fd7-480f-9fc9-e2ae3aaf9801",
   "metadata": {},
   "outputs": [
    {
     "name": "stdout",
     "output_type": "stream",
     "text": [
      "Current Lock-in Sensitivity setting: 15\n",
      "\n",
      "Current Time Constant: 8\n",
      "\n",
      "Current Low Pass Filter: 0\n",
      "\n",
      "Current Lock-in Bias Frequency (Hz): 1000\n",
      "\n"
     ]
    }
   ],
   "source": [
    "#Set lock-in sensitivity, time constant, low pass filter, and bias frequency\n",
    "lockin.write(f'SENS {sensitivity_setting}')\n",
    "lockin.write(f'OFLT {time_constant}')\n",
    "lockin.write(f'OFSL {low_pass_filter}')\n",
    "lockin.write(f'FREQ {bias_frequency}')\n",
    "log_and_print(f\"Current Lock-in Sensitivity setting: {lockin.query('SENS?')}\")\n",
    "log_and_print(f'Current Time Constant: {lockin.query('OFLT?')}')\n",
    "log_and_print(f'Current Low Pass Filter: {lockin.query('OFSL?')}')\n",
    "log_and_print(f\"Current Lock-in Bias Frequency (Hz): {lockin.query('FREQ?')}\")"
   ]
  },
  {
   "cell_type": "code",
   "execution_count": 10,
   "id": "002ca341-c7a1-4b0c-9a5b-15bf92ff093d",
   "metadata": {},
   "outputs": [
    {
     "name": "stdout",
     "output_type": "stream",
     "text": [
      "Waiting the 0 second warm-up time\n"
     ]
    }
   ],
   "source": [
    "#Wait the warm-up time\n",
    "log_and_print(f'Waiting the {warm_up_time} second warm-up time')\n",
    "time.sleep(warm_up_time)"
   ]
  },
  {
   "cell_type": "code",
   "execution_count": 11,
   "id": "2f73a840-544f-4707-bdc4-4d4a7b97992c",
   "metadata": {},
   "outputs": [],
   "source": [
    "#Empty dataframe\n",
    "data = {'Time': [], 'Vlockin (microvolts)': []}"
   ]
  },
  {
   "cell_type": "code",
   "execution_count": 12,
   "id": "f0bf5d5b-282a-4d16-a2d3-87ff3c4be9eb",
   "metadata": {},
   "outputs": [
    {
     "name": "stdout",
     "output_type": "stream",
     "text": [
      "Sampling Rate (samples/second): 1\n",
      "Total Duration (seconds): 1800\n",
      "Time Interval (seconds): 1.0\n",
      "BEGINNING DATA ACQUISITION\n",
      "DATA ACQUISITION COMPLETE\n"
     ]
    }
   ],
   "source": [
    "#Collect time vs. vlockin data\n",
    "log_and_print(f'Sampling Rate (samples/second): {sampling_rate}')\n",
    "log_and_print(f'Total Duration (seconds): {total_duration}')\n",
    "log_and_print(f'Time Interval (seconds): {time_interval}')\n",
    "log_and_print('BEGINNING DATA ACQUISITION')\n",
    "start_time = time.time()\n",
    "next_sample_time = start_time\n",
    "while time.time() - start_time < total_duration:\n",
    "    #Get the current time\n",
    "    current_time = time.time() - start_time\n",
    "    #Get vlockin\n",
    "    vlockin = float(lockin.query('OUTP?3')) * 1e6\n",
    "    #Append data\n",
    "    data['Time'].append(current_time)\n",
    "    data['Vlockin (microvolts)'].append(vlockin)\n",
    "    #Calculate the time for the next sample\n",
    "    next_sample_time += time_interval\n",
    "    sleep_time = next_sample_time - time.time()\n",
    "    #Wait for next sample\n",
    "    if sleep_time > 0:\n",
    "        time.sleep(sleep_time)\n",
    "df = pd.DataFrame(data)\n",
    "log_and_print('DATA ACQUISITION COMPLETE')"
   ]
  },
  {
   "cell_type": "code",
   "execution_count": 13,
   "id": "49daae69-cb32-4b33-aca2-5bb2d4a910a3",
   "metadata": {},
   "outputs": [
    {
     "name": "stdout",
     "output_type": "stream",
     "text": [
      "The data has been saved to time_vs_vlockin_longbaseline_computerplug2.csv, previous file may have been overwritten.\n"
     ]
    },
    {
     "data": {
      "text/html": [
       "<div>\n",
       "<style scoped>\n",
       "    .dataframe tbody tr th:only-of-type {\n",
       "        vertical-align: middle;\n",
       "    }\n",
       "\n",
       "    .dataframe tbody tr th {\n",
       "        vertical-align: top;\n",
       "    }\n",
       "\n",
       "    .dataframe thead th {\n",
       "        text-align: right;\n",
       "    }\n",
       "</style>\n",
       "<table border=\"1\" class=\"dataframe\">\n",
       "  <thead>\n",
       "    <tr style=\"text-align: right;\">\n",
       "      <th></th>\n",
       "      <th>Time</th>\n",
       "      <th>Vlockin (microvolts)</th>\n",
       "    </tr>\n",
       "  </thead>\n",
       "  <tbody>\n",
       "    <tr>\n",
       "      <th>0</th>\n",
       "      <td>0.000989</td>\n",
       "      <td>44.5696</td>\n",
       "    </tr>\n",
       "    <tr>\n",
       "      <th>1</th>\n",
       "      <td>1.000313</td>\n",
       "      <td>44.8155</td>\n",
       "    </tr>\n",
       "    <tr>\n",
       "      <th>2</th>\n",
       "      <td>2.000369</td>\n",
       "      <td>45.5233</td>\n",
       "    </tr>\n",
       "    <tr>\n",
       "      <th>3</th>\n",
       "      <td>3.000892</td>\n",
       "      <td>43.9140</td>\n",
       "    </tr>\n",
       "    <tr>\n",
       "      <th>4</th>\n",
       "      <td>4.001312</td>\n",
       "      <td>47.4977</td>\n",
       "    </tr>\n",
       "    <tr>\n",
       "      <th>...</th>\n",
       "      <td>...</td>\n",
       "      <td>...</td>\n",
       "    </tr>\n",
       "    <tr>\n",
       "      <th>1795</th>\n",
       "      <td>1795.001700</td>\n",
       "      <td>63.9562</td>\n",
       "    </tr>\n",
       "    <tr>\n",
       "      <th>1796</th>\n",
       "      <td>1796.004220</td>\n",
       "      <td>63.1516</td>\n",
       "    </tr>\n",
       "    <tr>\n",
       "      <th>1797</th>\n",
       "      <td>1797.006181</td>\n",
       "      <td>64.9546</td>\n",
       "    </tr>\n",
       "    <tr>\n",
       "      <th>1798</th>\n",
       "      <td>1798.000462</td>\n",
       "      <td>63.5912</td>\n",
       "    </tr>\n",
       "    <tr>\n",
       "      <th>1799</th>\n",
       "      <td>1799.004268</td>\n",
       "      <td>63.6061</td>\n",
       "    </tr>\n",
       "  </tbody>\n",
       "</table>\n",
       "<p>1800 rows × 2 columns</p>\n",
       "</div>"
      ],
      "text/plain": [
       "             Time  Vlockin (microvolts)\n",
       "0        0.000989               44.5696\n",
       "1        1.000313               44.8155\n",
       "2        2.000369               45.5233\n",
       "3        3.000892               43.9140\n",
       "4        4.001312               47.4977\n",
       "...           ...                   ...\n",
       "1795  1795.001700               63.9562\n",
       "1796  1796.004220               63.1516\n",
       "1797  1797.006181               64.9546\n",
       "1798  1798.000462               63.5912\n",
       "1799  1799.004268               63.6061\n",
       "\n",
       "[1800 rows x 2 columns]"
      ]
     },
     "execution_count": 13,
     "metadata": {},
     "output_type": "execute_result"
    }
   ],
   "source": [
    "#Save to csv\n",
    "df.to_csv(csv_file, index = False)\n",
    "log_and_print(f\"The data has been saved to {csv_file}, previous file may have been overwritten.\")\n",
    "pd.read_csv(csv_file)"
   ]
  },
  {
   "cell_type": "code",
   "execution_count": 14,
   "id": "ff1a0c6b-7eb0-4642-9f94-2ec9160ed430",
   "metadata": {},
   "outputs": [
    {
     "name": "stdout",
     "output_type": "stream",
     "text": [
      "The data has been saved to time_vs_vlockin_longbaseline_computerplug2.png, previous file may have been overwritten.\n"
     ]
    },
    {
     "data": {
      "image/png": "[encoded data removed]",
      "text/plain": [
       "<Figure size 1000x600 with 1 Axes>"
      ]
     },
     "metadata": {},
     "output_type": "display_data"
    }
   ],
   "source": [
    "#Plot time vs. vlockin\n",
    "plt.figure(figsize = (10, 6))\n",
    "plt.plot(df['Time'], df['Vlockin (microvolts)'])\n",
    "plt.xlabel('Time (s)')\n",
    "plt.ylabel('Vlockin (microvolts)')\n",
    "plt.title('Time vs. Vlockin')\n",
    "#save to png\n",
    "plt.savefig(plot_file)\n",
    "log_and_print(f\"The data has been saved to {plot_file}, previous file may have been overwritten.\")\n",
    "#display the plot\n",
    "plt.show()"
   ]
  },
  {
   "cell_type": "code",
   "execution_count": 15,
   "id": "818ba665-d0bb-4cb4-8b73-c093b0fd758f",
   "metadata": {},
   "outputs": [
    {
     "name": "stdout",
     "output_type": "stream",
     "text": [
      "PROWLS did NOT power down\n",
      "Current DLC Smart Bias Amplitude (V): 0.800018310546875\n",
      "Current DLC Smart Bias Offset (V): -0.30002441704309607\n",
      "Lasers on: True\n"
     ]
    }
   ],
   "source": [
    "#Either power down PROWLS and turn off bias amplitude, bias offset, and lasers, or keep them all on.\n",
    "with Client(SerialConnection(dlc_connection_port)) as client:\n",
    "    if power_down:\n",
    "        client.set('lockin:mod-out-amplitude', 0)\n",
    "        client.set('lockin:mod-out-offset', 0)\n",
    "        #wait 5 secs for DLC smart to adjust\n",
    "        time.sleep(5)\n",
    "        client.set('laser-operation:emission-global-enable', False)\n",
    "        log_and_print(f\"PROWLS powered down\")\n",
    "    else:\n",
    "        log_and_print(f\"PROWLS did NOT power down\")\n",
    "    log_and_print(f\"Current DLC Smart Bias Amplitude (V): {client.get('lockin:mod-out-amplitude')}\")\n",
    "    log_and_print(f\"Current DLC Smart Bias Offset (V): {client.get('lockin:mod-out-offset')}\")\n",
    "    log_and_print(f'Lasers on: {client.get('laser-operation:emission-global-enable')}')"
   ]
  }
 ],
 "metadata": {
  "kernelspec": {
   "display_name": "anl",
   "language": "python",
   "name": "anl"
  },
  "language_info": {
   "codemirror_mode": {
    "name": "ipython",
    "version": 3
   },
   "file_extension": ".py",
   "mimetype": "text/x-python",
   "name": "python",
   "nbconvert_exporter": "python",
   "pygments_lexer": "ipython3",
   "version": "3.12.3"
  }
 },
 "nbformat": 4,
 "nbformat_minor": 5
}
