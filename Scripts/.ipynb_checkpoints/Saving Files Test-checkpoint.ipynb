{
 "cells": [
  {
   "cell_type": "code",
   "execution_count": 4,
   "id": "0372c585-a0bc-40d1-a34c-e16eef52d074",
   "metadata": {},
   "outputs": [
    {
     "name": "stdout",
     "output_type": "stream",
     "text": [
      "CSV file saved: C:\\Users\\vhoffman/Desktop/PROWLS/Data/test.csv\n",
      "Log file saved: C:\\Users\\vhoffman/Desktop/PROWLS/Data/test.log\n",
      "PNG file saved: C:\\Users\\vhoffman/Desktop/PROWLS/Data/test.png\n"
     ]
    }
   ],
   "source": [
    "import os\n",
    "import pandas as pd\n",
    "import logging\n",
    "import matplotlib.pyplot as plt\n",
    "from pathlib import Path\n",
    "\n",
    "# Function to create directories if they do not exist\n",
    "def ensure_dir(file_path):\n",
    "    directory = os.path.dirname(file_path)\n",
    "    if not os.path.exists(directory):\n",
    "        os.makedirs(directory)\n",
    "\n",
    "# Test saving a CSV file\n",
    "def save_csv():\n",
    "    data = {'Column1': [1, 2, 3], 'Column2': [4, 5, 6]}\n",
    "    df = pd.DataFrame(data)\n",
    "    csv_path = os.path.expanduser('~/Desktop/PROWLS/Data/test.csv')\n",
    "    ensure_dir(csv_path)\n",
    "    df.to_csv(csv_path, index=False)\n",
    "    print(f\"CSV file saved: {csv_path}\")\n",
    "\n",
    "# Test saving a log file\n",
    "def save_log():\n",
    "    log_path = os.path.expanduser('~/Desktop/PROWLS/Data/test.log')\n",
    "    ensure_dir(log_path)\n",
    "    logging.basicConfig(filename=log_path, level=logging.INFO)\n",
    "    logger = logging.getLogger()\n",
    "    logger.info('This is a test log message.')\n",
    "    print(f\"Log file saved: {log_path}\")\n",
    "\n",
    "# Test saving a PNG file\n",
    "def save_png():\n",
    "    plt.plot([1, 2, 3], [4, 5, 6])\n",
    "    png_path = os.path.expanduser('~/Desktop/PROWLS/Data/test.png')\n",
    "    ensure_dir(png_path)\n",
    "    plt.savefig(png_path)\n",
    "    plt.close()\n",
    "    print(f\"PNG file saved: {png_path}\")\n",
    "\n",
    "# Run all tests\n",
    "def run_tests():\n",
    "    save_csv()\n",
    "    save_log()\n",
    "    save_png()\n",
    "\n",
    "if __name__ == \"__main__\":\n",
    "    run_tests()\n"
   ]
  },
  {
   "cell_type": "code",
   "execution_count": null,
   "id": "98a5e825-74d0-4841-ba75-def3fa33ccb4",
   "metadata": {},
   "outputs": [],
   "source": []
  }
 ],
 "metadata": {
  "kernelspec": {
   "display_name": "anl",
   "language": "python",
   "name": "anl"
  },
  "language_info": {
   "codemirror_mode": {
    "name": "ipython",
    "version": 3
   },
   "file_extension": ".py",
   "mimetype": "text/x-python",
   "name": "python",
   "nbconvert_exporter": "python",
   "pygments_lexer": "ipython3",
   "version": "3.12.3"
  }
 },
 "nbformat": 4,
 "nbformat_minor": 5
}
