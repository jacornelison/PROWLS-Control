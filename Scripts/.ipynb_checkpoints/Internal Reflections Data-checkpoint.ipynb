{
 "cells": [
  {
   "cell_type": "code",
   "execution_count": 1,
   "id": "c2093e62-4bb5-414c-9fb1-e922a91f3959",
   "metadata": {},
   "outputs": [],
   "source": [
    "import numpy as np"
   ]
  },
  {
   "cell_type": "code",
   "execution_count": 6,
   "id": "d27fb4e6-e50f-4f73-a96f-15e8d39ee85c",
   "metadata": {},
   "outputs": [],
   "source": [
    "v1 = 263.81988429752\n",
    "v2 = 141.667836099585\n",
    "d1 = 6.534\n",
    "d2 = 9.074"
   ]
  },
  {
   "cell_type": "code",
   "execution_count": 10,
   "id": "aff1e3a1-c59b-43da-b36a-6d2d916d934d",
   "metadata": {},
   "outputs": [
    {
     "data": {
      "text/plain": [
       "11263.30347621597"
      ]
     },
     "execution_count": 10,
     "metadata": {},
     "output_type": "execute_result"
    }
   ],
   "source": [
    "p1 = v1 * d1 **2\n",
    "p1"
   ]
  },
  {
   "cell_type": "code",
   "execution_count": 11,
   "id": "99ab226b-4f80-4c13-8e42-78cf0d52f61f",
   "metadata": {},
   "outputs": [
    {
     "data": {
      "text/plain": [
       "11664.572054821512"
      ]
     },
     "execution_count": 11,
     "metadata": {},
     "output_type": "execute_result"
    }
   ],
   "source": [
    "p2 = v2 * d2 **2\n",
    "p2"
   ]
  },
  {
   "cell_type": "code",
   "execution_count": 12,
   "id": "8d7f7a38-80ca-4abd-ae7b-892f11bcb254",
   "metadata": {},
   "outputs": [
    {
     "data": {
      "text/plain": [
       "0.9655993741802401"
      ]
     },
     "execution_count": 12,
     "metadata": {},
     "output_type": "execute_result"
    }
   ],
   "source": [
    "p1/p2"
   ]
  },
  {
   "cell_type": "code",
   "execution_count": null,
   "id": "568d4585-b687-41fb-b3b0-6fff0807a676",
   "metadata": {},
   "outputs": [],
   "source": []
  }
 ],
 "metadata": {
  "kernelspec": {
   "display_name": "Python 3 (ipykernel)",
   "language": "python",
   "name": "python3"
  },
  "language_info": {
   "codemirror_mode": {
    "name": "ipython",
    "version": 3
   },
   "file_extension": ".py",
   "mimetype": "text/x-python",
   "name": "python",
   "nbconvert_exporter": "python",
   "pygments_lexer": "ipython3",
   "version": "3.11.7"
  }
 },
 "nbformat": 4,
 "nbformat_minor": 5
}
