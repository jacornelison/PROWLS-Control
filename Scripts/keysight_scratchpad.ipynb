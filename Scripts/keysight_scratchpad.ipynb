{
 "cells": [
  {
   "cell_type": "code",
   "execution_count": 1,
   "id": "9b1f82b2-90a5-4bab-9759-a1cf0e12fe08",
   "metadata": {},
   "outputs": [],
   "source": [
    "import pyvisa\n",
    "from labjack import ljm\n",
    "import numpy as np\n",
    "import matplotlib.pyplot as plt\n",
    "import pandas as pd\n",
    "from pyqtgraph.Qt import QtGui, QtWidgets\n",
    "import pyqtgraph as pg\n",
    "%matplotlib inline\n",
    "import base64\n",
    "import sys\n",
    "import time\n",
    "import pyvisa\n",
    "from time import sleep\n",
    "from simple_pid import PID"
   ]
  },
  {
   "cell_type": "code",
   "execution_count": 23,
   "id": "e673a0a5-61c5-46bb-97bd-b59ffa8edb78",
   "metadata": {},
   "outputs": [
    {
     "name": "stdout",
     "output_type": "stream",
     "text": [
      "('ASRL8::INSTR', 'ASRL9::INSTR', 'GPIB0::4::INSTR', 'GPIB0::8::INSTR')\n",
      "Stanford_Research_Systems,SR830,s/n46458,ver1.07 \n",
      "\n",
      "Agilent Technologies,E3647A,0,2.4-6.1-2.1\n",
      "\n"
     ]
    }
   ],
   "source": [
    "rm = pyvisa.ResourceManager()  # '@py' specifies the pyvisa-py backend\n",
    "addresses = rm.list_resources()\n",
    "print(addresses)\n",
    "lockin = rm.open_resource(addresses[3])\n",
    "PS = rm.open_resource(addresses[2])\n",
    "idn = lockin.query('*IDN?')\n",
    "print(idn)\n",
    "idn = PS.query('*IDN?')\n",
    "print(idn)"
   ]
  },
  {
   "cell_type": "code",
   "execution_count": 24,
   "id": "9e65a93f-40ca-44cb-99ec-9d0461807a8f",
   "metadata": {},
   "outputs": [
    {
     "name": "stdout",
     "output_type": "stream",
     "text": [
      "Voltage set to: +0.00000000E+00\n",
      "V\n"
     ]
    },
    {
     "data": {
      "text/plain": [
       "10"
      ]
     },
     "execution_count": 24,
     "metadata": {},
     "output_type": "execute_result"
    }
   ],
   "source": [
    "# Select Channel\n",
    "PS.write('INST:SEL OUT1')\n",
    "\n",
    "# Set the output voltage (for example, 5V)\n",
    "desired_voltage = 0.0\n",
    "PS.write(f'VOLT {desired_voltage}')\n",
    "\n",
    "# Verify the set voltage\n",
    "PS.write('VOLT?')\n",
    "current_voltage = PS.read()\n",
    "print(f'Voltage set to: {current_voltage}V')\n",
    "\n",
    "# Turn on the output\n",
    "PS.write('OUTPUT 1')\n"
   ]
  },
  {
   "cell_type": "code",
   "execution_count": 28,
   "id": "3d3839bb-de0a-4510-82c5-5d9ff0e2f17e",
   "metadata": {},
   "outputs": [],
   "source": [
    "PS.write('OUTPUT 0')\n",
    "PS.close()\n",
    "lockin.close()\n",
    "rm.close()"
   ]
  }
 ],
 "metadata": {
  "kernelspec": {
   "display_name": "Python 3 (ipykernel)",
   "language": "python",
   "name": "python3"
  },
  "language_info": {
   "codemirror_mode": {
    "name": "ipython",
    "version": 3
   },
   "file_extension": ".py",
   "mimetype": "text/x-python",
   "name": "python",
   "nbconvert_exporter": "python",
   "pygments_lexer": "ipython3",
   "version": "3.11.5"
  }
 },
 "nbformat": 4,
 "nbformat_minor": 5
}
