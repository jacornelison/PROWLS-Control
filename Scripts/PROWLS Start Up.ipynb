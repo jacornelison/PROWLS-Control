{
 "cells": [
  {
   "cell_type": "code",
   "execution_count": 1,
   "id": "60dcfa70-6ed3-495a-8c39-8ec259c3bf91",
   "metadata": {},
   "outputs": [],
   "source": [
    "#imports\n",
    "import base64\n",
    "import sys\n",
    "import time\n",
    "import pyvisa\n",
    "from time import sleep\n",
    "from toptica.lasersdk.client import Client, SerialConnection, UserLevel"
   ]
  },
  {
   "cell_type": "code",
   "execution_count": 2,
   "id": "a211268b-a050-410a-83e2-01bd4402fa52",
   "metadata": {},
   "outputs": [],
   "source": [
    "#set connections to DLC smart and lock-in amplifier\n",
    "lockin_address = 'GPIB::8::INSTR'\n",
    "dlc_connection_port = 'COM3'\n",
    "#lock-in sensitivity setting\n",
    "sensitivity_setting = 15\n",
    "#set frequency to measure at\n",
    "set_frequency = 180 #GHz\n",
    "time_constant = 8 #lock-in time constant setting, specifics found in SR830 manual\n",
    "low_pass_filter = 0 #lock-in low pass filter slope setting, specifics found in SR830 manual"
   ]
  },
  {
   "cell_type": "code",
   "execution_count": 3,
   "id": "cda29f24-1080-4db3-ab2f-495141f884a2",
   "metadata": {},
   "outputs": [
    {
     "name": "stdout",
     "output_type": "stream",
     "text": [
      "Connected to: Stanford_Research_Systems,SR830,s/n46458,ver1.07 \n",
      "\n"
     ]
    }
   ],
   "source": [
    "#set up connection with lock-in amplifier\n",
    "rm = pyvisa.ResourceManager()\n",
    "lockin = rm.open_resource(lockin_address)\n",
    "idn = lockin.query('*IDN?')\n",
    "print(f'Connected to: {idn}')"
   ]
  },
  {
   "cell_type": "code",
   "execution_count": 4,
   "id": "55bb8241-5b89-43af-b24b-8fc46c2c20e1",
   "metadata": {},
   "outputs": [
    {
     "name": "stdout",
     "output_type": "stream",
     "text": [
      "Connected to: DLCsmartTHz\n",
      "Current User Level: 2\n"
     ]
    }
   ],
   "source": [
    "#set up connection with DLC smart and check user level\n",
    "with Client(SerialConnection(dlc_connection_port)) as client:\n",
    "    user_level = client.get('ul')\n",
    "    dlc_smart = client.get('general:system-type')\n",
    "    print(f'Connected to: {dlc_smart}')\n",
    "    print(f\"Current User Level: {user_level}\")"
   ]
  },
  {
   "cell_type": "code",
   "execution_count": 5,
   "id": "d40e06d1-1256-4f86-91ed-8937e72ed5cc",
   "metadata": {},
   "outputs": [
    {
     "name": "stdout",
     "output_type": "stream",
     "text": [
      "Lasers on: True\n"
     ]
    }
   ],
   "source": [
    "#turn on lasers (check emission lights)\n",
    "#if lasers do not power on, check the frontkey and user level\n",
    "with Client(SerialConnection(dlc_connection_port)) as client:\n",
    "    client.set('laser-operation:emission-global-enable', True)\n",
    "    print(f'Lasers on: {client.get('laser-operation:emission-global-enable')}')\n",
    "#wait 5 secs for lasers to adjust\n",
    "time.sleep(5)"
   ]
  },
  {
   "cell_type": "code",
   "execution_count": 6,
   "id": "6d289746-2e59-4aeb-97da-4e1b65d2bc34",
   "metadata": {},
   "outputs": [
    {
     "name": "stdout",
     "output_type": "stream",
     "text": [
      "Current DLC Smart Bias Amplitude (V): 0.800018310546875\n",
      "Current DLC Smart Bias Offset (V): -0.30002441704309607\n",
      "Current DLC Smart Bias Frequency (Hz): 1000\n"
     ]
    }
   ],
   "source": [
    "#set DLC Smart bias amplitude and offset to default\n",
    "with Client(SerialConnection(dlc_connection_port)) as client:\n",
    "    client.set('lockin:mod-out-amplitude', 0.80)\n",
    "    client.set('lockin:mod-out-offset', -0.30)\n",
    "#set DLC Smart bias frequency to 1000\n",
    "    client.set('lockin:frequency', 1000)\n",
    "    print(f\"Current DLC Smart Bias Amplitude (V): {client.get('lockin:mod-out-amplitude')}\")\n",
    "    print(f\"Current DLC Smart Bias Offset (V): {client.get('lockin:mod-out-offset')}\")\n",
    "    print(f\"Current DLC Smart Bias Frequency (Hz): {client.get('lockin:frequency')}\")\n",
    "#wait 5 secs for DLC smart to adjust\n",
    "time.sleep(5)"
   ]
  },
  {
   "cell_type": "code",
   "execution_count": 7,
   "id": "86df3e27-ca73-4c6d-84ba-6f010f768847",
   "metadata": {},
   "outputs": [
    {
     "name": "stdout",
     "output_type": "stream",
     "text": [
      "Current DLC Smart Frequency (GHz): 180.0027486262552\n"
     ]
    }
   ],
   "source": [
    "#set DLC Smart frequency to value you wish to measure\n",
    "with Client(SerialConnection(dlc_connection_port)) as client:\n",
    "    client.set('frequency:frequency-set', set_frequency)\n",
    "    print(f\"Current DLC Smart Frequency (GHz): {client.get('frequency:frequency-act')}\")"
   ]
  },
  {
   "cell_type": "code",
   "execution_count": 9,
   "id": "3366dfe7-fe02-4dfa-ac08-4dc0ea9f39f9",
   "metadata": {},
   "outputs": [
    {
     "name": "stdout",
     "output_type": "stream",
     "text": [
      "Current Lock-in Sensitivity setting: 15\n",
      "\n",
      "Current Time Constant: 8\n",
      "\n",
      "Current Low Pass Filter: 0\n",
      "\n"
     ]
    }
   ],
   "source": [
    "#set lock-in amplifier sensitivity\n",
    "lockin.write(f'SENS {sensitivity_setting}')\n",
    "lockin_sensitivity = lockin.query('SENS?')\n",
    "print(f\"Current Lock-in Sensitivity setting: {lockin_sensitivity}\")\n",
    "#set lock-in time constant setting\n",
    "lockin.write(f'OFLT {time_constant}')\n",
    "print(f'Current Time Constant: {lockin.query('OFLT?')}')\n",
    "#set lock-in low pass filter slope\n",
    "lockin.write(f'OFSL {low_pass_filter}')\n",
    "print(f'Current Low Pass Filter: {lockin.query('OFSL?')}')"
   ]
  },
  {
   "cell_type": "code",
   "execution_count": null,
   "id": "12319929-10e2-46c9-9c74-53ccf6f364fe",
   "metadata": {},
   "outputs": [],
   "source": []
  }
 ],
 "metadata": {
  "kernelspec": {
   "display_name": "anl",
   "language": "python",
   "name": "anl"
  },
  "language_info": {
   "codemirror_mode": {
    "name": "ipython",
    "version": 3
   },
   "file_extension": ".py",
   "mimetype": "text/x-python",
   "name": "python",
   "nbconvert_exporter": "python",
   "pygments_lexer": "ipython3",
   "version": "3.12.3"
  }
 },
 "nbformat": 4,
 "nbformat_minor": 5
}
