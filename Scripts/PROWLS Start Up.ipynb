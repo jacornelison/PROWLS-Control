{
 "cells": [
  {
   "cell_type": "code",
   "execution_count": 1,
   "id": "60dcfa70-6ed3-495a-8c39-8ec259c3bf91",
   "metadata": {},
   "outputs": [],
   "source": [
    "#imports\n",
    "import base64\n",
    "import sys\n",
    "import time\n",
    "import pyvisa\n",
    "from time import sleep\n",
    "from toptica.lasersdk.client import Client, SerialConnection, UserLevel\n",
    "\n",
    "def find_toptica_port():\n",
    "    rm = pyvisa.ResourceManager(\"@py\")\n",
    "    for resource in rm.list_resources():\n",
    "        if resource[0:4]==\"ASRL\":\n",
    "            try:\n",
    "                dlc_connection_port = \"COM\"+resource[4]\n",
    "                #set up connection with DLC smart and check user level\n",
    "                with Client(SerialConnection(dlc_connection_port)) as client:\n",
    "                    print(\"Found Toptica on \"+dlc_connection_port)\n",
    "                    user_level = client.get('ul')\n",
    "                    print(client.get('general:serial-number'))\n",
    "                    dlc_smart = client.get('general:system-type')\n",
    "                    print(f\"Connected to: {dlc_smart}\")\n",
    "                    print(f\"Current User Level: {user_level}\")\n",
    "                    return dlc_connection_port\n",
    "            except:\n",
    "                continue\n",
    "    rm.close()\n",
    "\n"
   ]
  },
  {
   "cell_type": "code",
   "execution_count": 3,
   "id": "1e5cf119-0693-4aec-b53e-40d562cb1b1e",
   "metadata": {},
   "outputs": [
    {
     "data": {
      "text/plain": [
       "('ASRL4::INSTR', 'ASRL3::INSTR', 'ASRL9::INSTR', 'TCPIP::192.168.0.196::INSTR')"
      ]
     },
     "execution_count": 3,
     "metadata": {},
     "output_type": "execute_result"
    }
   ],
   "source": [
    "rm = pyvisa.ResourceManager(\"@py\")\n",
    "rm.list_resources()"
   ]
  },
  {
   "cell_type": "code",
   "execution_count": 25,
   "id": "a211268b-a050-410a-83e2-01bd4402fa52",
   "metadata": {},
   "outputs": [
    {
     "name": "stdout",
     "output_type": "stream",
     "text": [
      "Found Toptica on COM9\n",
      "DLC smart_015174\n",
      "Connected to: DLCsmartTHz\n",
      "Current User Level: 3\n"
     ]
    }
   ],
   "source": [
    "#set connections to DLC smart and lock-in amplifier\n",
    "lockin_address = 'GPIB::8::INSTR'\n",
    "dlc_connection_port = find_toptica_port()\n",
    "#lock-in sensitivity setting\n",
    "sensitivity_setting = 15\n",
    "#set frequency to measure at\n",
    "set_frequency = 120 #GHz\n",
    "time_constant = 6 #lock-in time constant setting, specifics found in SR830 manual\n",
    "low_pass_filter = 1 #lock-in low pass filter slope setting, specifics found in SR830 manual"
   ]
  },
  {
   "cell_type": "code",
   "execution_count": 18,
   "id": "cda29f24-1080-4db3-ab2f-495141f884a2",
   "metadata": {},
   "outputs": [
    {
     "name": "stdout",
     "output_type": "stream",
     "text": [
      "Connected to: Stanford_Research_Systems,SR830,s/n46458,ver1.07 \n",
      "\n"
     ]
    }
   ],
   "source": [
    "#set up connection with lock-in amplifier\n",
    "# Make sure the USB is plugged in before the lockin is turned on!\n",
    "rm = pyvisa.ResourceManager()\n",
    "lockin = rm.open_resource(lockin_address)\n",
    "idn = lockin.query('*IDN?')\n",
    "print(f'Connected to: {idn}')"
   ]
  },
  {
   "cell_type": "code",
   "execution_count": 19,
   "id": "55bb8241-5b89-43af-b24b-8fc46c2c20e1",
   "metadata": {},
   "outputs": [
    {
     "name": "stdout",
     "output_type": "stream",
     "text": [
      "DLC smart_015174\n",
      "Connected to: DLCsmartTHz\n",
      "Current User Level: 3\n"
     ]
    }
   ],
   "source": [
    "#set up connection with DLC smart and check user level\n",
    "with Client(SerialConnection(dlc_connection_port)) as client:\n",
    "    user_level = client.get('ul')\n",
    "    print(client.get('general:serial-number'))\n",
    "    dlc_smart = client.get('general:system-type')\n",
    "    print(f\"Connected to: {dlc_smart}\")\n",
    "    print(f\"Current User Level: {user_level}\")"
   ]
  },
  {
   "cell_type": "code",
   "execution_count": 20,
   "id": "d40e06d1-1256-4f86-91ed-8937e72ed5cc",
   "metadata": {},
   "outputs": [
    {
     "name": "stdout",
     "output_type": "stream",
     "text": [
      "Lasers on: True\n"
     ]
    }
   ],
   "source": [
    "#turn on lasers (check emission lights)\n",
    "#if lasers do not power on, check the frontkey and user level\n",
    "with Client(SerialConnection(dlc_connection_port)) as client:\n",
    "    client.set('laser-operation:emission-global-enable', True)\n",
    "    laser_on_status = client.get('laser-operation:emission-global-enable')\n",
    "    print(f'Lasers on: {laser_on_status}')\n",
    "#wait 5 secs for lasers to adjust\n",
    "time.sleep(1)"
   ]
  },
  {
   "cell_type": "code",
   "execution_count": 22,
   "id": "6d289746-2e59-4aeb-97da-4e1b65d2bc34",
   "metadata": {},
   "outputs": [
    {
     "name": "stdout",
     "output_type": "stream",
     "text": [
      "Current DLC Smart Bias Amplitude (V): 1.999969482421875\n",
      "Current DLC Smart Bias Offset (V): 0\n",
      "Current DLC Smart Bias Frequency (Hz): 1000\n"
     ]
    }
   ],
   "source": [
    "#set DLC Smart bias amplitude and offset to default\n",
    "with Client(SerialConnection(dlc_connection_port)) as client:\n",
    "    client.set('lockin:mod-out-amplitude', 2.0)\n",
    "    client.set('lockin:mod-out-offset', 0.0)\n",
    "#set DLC Smart bias frequency to 1000\n",
    "    client.set('lockin:frequency', 1000)\n",
    "    print(f\"Current DLC Smart Bias Amplitude (V): {client.get('lockin:mod-out-amplitude')}\")\n",
    "    print(f\"Current DLC Smart Bias Offset (V): {client.get('lockin:mod-out-offset')}\")\n",
    "    print(f\"Current DLC Smart Bias Frequency (Hz): {client.get('lockin:frequency')}\")\n",
    "#wait 5 secs for DLC smart to adjust\n",
    "time.sleep(5)"
   ]
  },
  {
   "cell_type": "code",
   "execution_count": 26,
   "id": "86df3e27-ca73-4c6d-84ba-6f010f768847",
   "metadata": {},
   "outputs": [
    {
     "name": "stdout",
     "output_type": "stream",
     "text": [
      "Current DLC Smart Frequency (GHz): 100.00343561015325\n"
     ]
    }
   ],
   "source": [
    "#set DLC Smart frequency to value you wish to measure\n",
    "with Client(SerialConnection(dlc_connection_port)) as client:\n",
    "    client.set('frequency:frequency-set', set_frequency)\n",
    "    print(f\"Current DLC Smart Frequency (GHz): {client.get('frequency:frequency-act')}\")"
   ]
  },
  {
   "cell_type": "code",
   "execution_count": 28,
   "id": "3366dfe7-fe02-4dfa-ac08-4dc0ea9f39f9",
   "metadata": {},
   "outputs": [
    {
     "name": "stdout",
     "output_type": "stream",
     "text": [
      "Current Lock-in Sensitivity setting: 15\n",
      "\n",
      "Current Time Constant: 6\n",
      "\n",
      "Current Low Pass Filter: 1\n",
      "\n"
     ]
    }
   ],
   "source": [
    "#set lock-in amplifier sensitivity\n",
    "lockin.write(f'SENS {sensitivity_setting}')\n",
    "lockin_sensitivity = lockin.query('SENS?')\n",
    "print(f\"Current Lock-in Sensitivity setting: {lockin_sensitivity}\")\n",
    "#set lock-in time constant setting\n",
    "lockin.write(f'OFLT {time_constant}')\n",
    "print(f\"Current Time Constant: {lockin.query('OFLT?')}\")\n",
    "#set lock-in low pass filter slope\n",
    "lockin.write(f'OFSL {low_pass_filter}')\n",
    "print(f\"Current Low Pass Filter: {lockin.query('OFSL?')}\")"
   ]
  },
  {
   "cell_type": "code",
   "execution_count": 27,
   "id": "73677723-01d1-44a0-9106-761babd4a257",
   "metadata": {},
   "outputs": [
    {
     "name": "stdout",
     "output_type": "stream",
     "text": [
      "Current Lock-in Sensitivity setting: 9\n",
      "\n",
      "Current Time Constant: 6\n",
      "\n",
      "Current Low Pass Filter: 1\n",
      "\n"
     ]
    }
   ],
   "source": [
    "#set lock-in amplifier sensitivity\n",
    "#lockin.write(f'SENS {sensitivity_setting}')\n",
    "lockin_sensitivity = lockin.query('SENS?')\n",
    "print(f\"Current Lock-in Sensitivity setting: {lockin_sensitivity}\")\n",
    "#set lock-in time constant setting\n",
    "#lockin.write(f'OFLT {time_constant}')\n",
    "print(f\"Current Time Constant: {lockin.query('OFLT?')}\")\n",
    "#set lock-in low pass filter slope\n",
    "#lockin.write(f'OFSL {low_pass_filter}')\n",
    "print(f\"Current Low Pass Filter: {lockin.query('OFSL?')}\")"
   ]
  }
 ],
 "metadata": {
  "kernelspec": {
   "display_name": "Python 3 (ipykernel)",
   "language": "python",
   "name": "python3"
  },
  "language_info": {
   "codemirror_mode": {
    "name": "ipython",
    "version": 3
   },
   "file_extension": ".py",
   "mimetype": "text/x-python",
   "name": "python",
   "nbconvert_exporter": "python",
   "pygments_lexer": "ipython3",
   "version": "3.11.13"
  }
 },
 "nbformat": 4,
 "nbformat_minor": 5
}
