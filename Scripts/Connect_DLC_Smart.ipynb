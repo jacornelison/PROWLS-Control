{
 "cells": [
  {
   "cell_type": "code",
   "execution_count": 2,
   "id": "2f35ac9c-cb4b-4178-b30a-de4102e71767",
   "metadata": {},
   "outputs": [],
   "source": [
    "import base64\n",
    "import sys\n",
    "import time\n",
    "import pandas as pd\n",
    "from time import sleep\n",
    "from toptica.lasersdk.client import Client, SerialConnection\n",
    "from toptica.lasersdk.client import UserLevel, Subscription, Timestamp, SubscriptionValue"
   ]
  },
  {
   "cell_type": "code",
   "execution_count": 4,
   "id": "a13cd71c-7dbc-4639-9bdb-1e8b984aa47f",
   "metadata": {},
   "outputs": [
    {
     "name": "stdout",
     "output_type": "stream",
     "text": [
      "Current User Level: 2\n"
     ]
    }
   ],
   "source": [
    "with Client(SerialConnection('COM3')) as client:\n",
    "    user_level = client.get('ul')\n",
    "    print(\"Current User Level:\", user_level)"
   ]
  },
  {
   "cell_type": "code",
   "execution_count": 3,
   "id": "f6ef6886-444a-440c-983f-584bdf2eab4b",
   "metadata": {},
   "outputs": [
    {
     "name": "stdout",
     "output_type": "stream",
     "text": [
      "frontkey: False\n"
     ]
    }
   ],
   "source": [
    "with Client(SerialConnection('COM3')) as client:\n",
    "    frontkey = client.get('laser-operation:frontkey-locked')\n",
    "    print(\"frontkey:\" , frontkey)"
   ]
  },
  {
   "cell_type": "code",
   "execution_count": 4,
   "id": "70ea7622-f59a-468b-af8e-8550cda89de6",
   "metadata": {},
   "outputs": [],
   "source": [
    "with Client(SerialConnection('COM3')) as client:\n",
    "    client.set('laser-operation:emission-global-enable', True)"
   ]
  },
  {
   "cell_type": "code",
   "execution_count": 5,
   "id": "5a0a7764-886b-4d16-93cb-16b081e15c32",
   "metadata": {},
   "outputs": [],
   "source": [
    "with Client(SerialConnection('COM3')) as client:\n",
    "    client.set('frequency:frequency-set', 180)"
   ]
  },
  {
   "cell_type": "code",
   "execution_count": 3,
   "id": "2d24e300-3e02-44fc-a8a0-28f57b9848e7",
   "metadata": {},
   "outputs": [],
   "source": [
    "with Client(SerialConnection('COM3')) as client:\n",
    "    client.set('lockin:frequency', 1000)"
   ]
  },
  {
   "cell_type": "code",
   "execution_count": null,
   "id": "422f08c5-0ea8-47ae-a879-836d933786a5",
   "metadata": {},
   "outputs": [],
   "source": []
  }
 ],
 "metadata": {
  "kernelspec": {
   "display_name": "Python 3 (ipykernel)",
   "language": "python",
   "name": "python3"
  },
  "language_info": {
   "codemirror_mode": {
    "name": "ipython",
    "version": 3
   },
   "file_extension": ".py",
   "mimetype": "text/x-python",
   "name": "python",
   "nbconvert_exporter": "python",
   "pygments_lexer": "ipython3",
   "version": "3.11.9"
  }
 },
 "nbformat": 4,
 "nbformat_minor": 5
}
