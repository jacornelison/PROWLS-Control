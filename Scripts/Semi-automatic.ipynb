{
 "cells": [
  {
   "cell_type": "code",
   "execution_count": 1,
   "id": "2f35ac9c-cb4b-4178-b30a-de4102e71767",
   "metadata": {},
   "outputs": [],
   "source": [
    "#imports\n",
    "import base64\n",
    "import sys\n",
    "import time\n",
    "import pandas as pd\n",
    "import matplotlib.pyplot as plt\n",
    "from time import sleep\n",
    "from toptica.lasersdk.client import Client, SerialConnection\n",
    "from toptica.lasersdk.client import UserLevel, Subscription, Timestamp, SubscriptionValue"
   ]
  },
  {
   "cell_type": "code",
   "execution_count": 2,
   "id": "cc2c5de3-5d51-44ac-9a6b-05d902885cbf",
   "metadata": {},
   "outputs": [
    {
     "name": "stdout",
     "output_type": "stream",
     "text": [
      "The Current User Level should be 2 or 3, preferably 2\n",
      "Current User Level: 3\n"
     ]
    }
   ],
   "source": [
    "#check user level\n",
    "with Client(SerialConnection('COM3')) as client:\n",
    "    user_level = client.get('ul')\n",
    "    print (\"The Current User Level should be 2 or 3, preferably 2\")\n",
    "    print(\"Current User Level:\", user_level)"
   ]
  },
  {
   "cell_type": "code",
   "execution_count": 3,
   "id": "c3d85f1f-06dd-45cb-b18e-bd4422ce2fa1",
   "metadata": {},
   "outputs": [
    {
     "name": "stdout",
     "output_type": "stream",
     "text": [
      "Bias Amplitude and Offset should read 0\n",
      "Current Bias Amplitude (V): 0\n",
      "Current Bias Offset (V): 0\n"
     ]
    }
   ],
   "source": [
    "#set bias amplitude and offset to zero\n",
    "with Client(SerialConnection('COM3')) as client:\n",
    "    client.set('lockin:mod-out-amplitude', 0)\n",
    "    client.set('lockin:mod-out-offset', 0)\n",
    "    print (\"Bias Amplitude and Offset should read 0\")\n",
    "    print (\"Current Bias Amplitude (V):\", client.get('lockin:mod-out-amplitude'))\n",
    "    print (\"Current Bias Offset (V):\",client.get('lockin:mod-out-offset'))\n",
    "#wait 5 secs for DLC smart to adjust\n",
    "time.sleep(5)"
   ]
  },
  {
   "cell_type": "code",
   "execution_count": 4,
   "id": "fc0138f4-6b6a-46a5-ba11-ea06c1af97dc",
   "metadata": {},
   "outputs": [
    {
     "name": "stdout",
     "output_type": "stream",
     "text": [
      "Lasers should be on (check emission lights). If they fail to power on, check the frontkey and user level\n"
     ]
    }
   ],
   "source": [
    "#turn on lasers\n",
    "with Client(SerialConnection('COM3')) as client:\n",
    "    client.set('laser-operation:emission-global-enable', True)\n",
    "    print (\"Lasers should be on (check emission lights). If they fail to power on, check the frontkey and user level\")\n",
    "#wait 5 secs for lasers to adjust\n",
    "time.sleep(5)"
   ]
  },
  {
   "cell_type": "code",
   "execution_count": 5,
   "id": "c4b5c993-8055-4f1f-bba1-5a47ac166e14",
   "metadata": {},
   "outputs": [
    {
     "name": "stdout",
     "output_type": "stream",
     "text": [
      "Bias Amplitude should read 0.8, Bias Offset should read -0.3, Bias Frequency should read 1000\n",
      "Current Bias Amplitude (V): 0.800018310546875\n",
      "Current Bias Offset (V): -0.30002441704309607\n",
      "Current Bias Frequency (Hz): 1000\n"
     ]
    }
   ],
   "source": [
    "#set bias amplitude and offset to default\n",
    "with Client(SerialConnection('COM3')) as client:\n",
    "    client.set('lockin:mod-out-amplitude', 0.80)\n",
    "    client.set('lockin:mod-out-offset', -0.30)\n",
    "#set bias frequency to 1000\n",
    "    client.set('lockin:frequency', 1000)\n",
    "    print (\"Bias Amplitude should read 0.8, Bias Offset should read -0.3, Bias Frequency should read 1000\")\n",
    "    print (\"Current Bias Amplitude (V):\", client.get('lockin:mod-out-amplitude'))\n",
    "    print (\"Current Bias Offset (V):\",client.get('lockin:mod-out-offset'))\n",
    "    print (\"Current Bias Frequency (Hz):\",client.get('lockin:frequency'))\n",
    "#wait 5 secs for DLC smart to adjust\n",
    "time.sleep(5)"
   ]
  },
  {
   "cell_type": "code",
   "execution_count": 6,
   "id": "a13cd71c-7dbc-4639-9bdb-1e8b984aa47f",
   "metadata": {},
   "outputs": [],
   "source": [
    "#list of frequencies to record data for\n",
    "frequencies_to_prompt = [\n",
    "    70, 90, 110, 120, 130, 140, 150, 160, 170, 180, 190, 200, 210, 220, 230, 240, 250,\n",
    "    260, 270, 280, 300, 320, 350, 400, 450, 500, 550, 600\n",
    "]\n",
    "#empty dataframe\n",
    "data = {\n",
    "    'Frequency (GHz)': [],\n",
    "    'Vlockin (microvolts)': []\n",
    "}"
   ]
  },
  {
   "cell_type": "code",
   "execution_count": 7,
   "id": "f6ef6886-444a-440c-983f-584bdf2eab4b",
   "metadata": {},
   "outputs": [
    {
     "name": "stdin",
     "output_type": "stream",
     "text": [
      "Enter a Vlockin (microvolts) value for frequency 70 GHz:  1.514\n",
      "Enter a Vlockin (microvolts) value for frequency 90 GHz:  0.507\n",
      "Enter a Vlockin (microvolts) value for frequency 110 GHz:  0.153\n",
      "Enter a Vlockin (microvolts) value for frequency 120 GHz:  13.500\n",
      "Enter a Vlockin (microvolts) value for frequency 130 GHz:  38.35\n",
      "Enter a Vlockin (microvolts) value for frequency 140 GHz:  127.60\n",
      "Enter a Vlockin (microvolts) value for frequency 150 GHz:  23.47\n",
      "Enter a Vlockin (microvolts) value for frequency 160 GHz:  31.19\n",
      "Enter a Vlockin (microvolts) value for frequency 170 GHz:  87.75\n",
      "Enter a Vlockin (microvolts) value for frequency 180 GHz:  25.18\n",
      "Enter a Vlockin (microvolts) value for frequency 190 GHz:  41.44\n",
      "Enter a Vlockin (microvolts) value for frequency 200 GHz:  26.64\n",
      "Enter a Vlockin (microvolts) value for frequency 210 GHz:  26.31\n",
      "Enter a Vlockin (microvolts) value for frequency 220 GHz:  19.76\n",
      "Enter a Vlockin (microvolts) value for frequency 230 GHz:  13.50\n",
      "Enter a Vlockin (microvolts) value for frequency 240 GHz:  15.37\n",
      "Enter a Vlockin (microvolts) value for frequency 250 GHz:  12.051\n",
      "Enter a Vlockin (microvolts) value for frequency 260 GHz:  3.329\n",
      "Enter a Vlockin (microvolts) value for frequency 270 GHz:  0.419\n",
      "Enter a Vlockin (microvolts) value for frequency 280 GHz:  1.250\n",
      "Enter a Vlockin (microvolts) value for frequency 300 GHz:  4.150\n",
      "Enter a Vlockin (microvolts) value for frequency 320 GHz:  0.147\n",
      "Enter a Vlockin (microvolts) value for frequency 350 GHz:  0.216\n",
      "Enter a Vlockin (microvolts) value for frequency 400 GHz:  0.050\n",
      "Enter a Vlockin (microvolts) value for frequency 450 GHz:  0.134\n",
      "Enter a Vlockin (microvolts) value for frequency 500 GHz:  0.045\n",
      "Enter a Vlockin (microvolts) value for frequency 550 GHz:  0.138\n",
      "Enter a Vlockin (microvolts) value for frequency 600 GHz:  0.041\n"
     ]
    }
   ],
   "source": [
    "#DLC smart set f at increments, record displayed voltage from lock-in\n",
    "for frequency in frequencies_to_prompt:\n",
    "    with Client(SerialConnection('COM3')) as client:\n",
    "        #set frequency\n",
    "        client.set('frequency:frequency-set', frequency)\n",
    "        #wait 5 secs for lasers to adjust\n",
    "        time.sleep(5)\n",
    "        #prompt to enter a value\n",
    "        entered_value = input(f\"Enter a Vlockin (microvolts) value for frequency {frequency} GHz: \")\n",
    "        #append the frequency and entered value to dataframe\n",
    "        data['Frequency (GHz)'].append(frequency)\n",
    "        data['Vlockin (microvolts)'].append(float(entered_value))\n",
    "#convert dict to dataframe\n",
    "df = pd.DataFrame(data)"
   ]
  },
  {
   "cell_type": "code",
   "execution_count": 8,
   "id": "b9548bdb-f446-43a9-9538-2d47e4d68078",
   "metadata": {},
   "outputs": [
    {
     "name": "stdout",
     "output_type": "stream",
     "text": [
      "The data has been saved to f_vs_vlockin_table.csv, previous file may have been overwritten.\n"
     ]
    },
    {
     "data": {
      "text/html": [
       "<div>\n",
       "<style scoped>\n",
       "    .dataframe tbody tr th:only-of-type {\n",
       "        vertical-align: middle;\n",
       "    }\n",
       "\n",
       "    .dataframe tbody tr th {\n",
       "        vertical-align: top;\n",
       "    }\n",
       "\n",
       "    .dataframe thead th {\n",
       "        text-align: right;\n",
       "    }\n",
       "</style>\n",
       "<table border=\"1\" class=\"dataframe\">\n",
       "  <thead>\n",
       "    <tr style=\"text-align: right;\">\n",
       "      <th></th>\n",
       "      <th>Frequency (GHz)</th>\n",
       "      <th>Vlockin (microvolts)</th>\n",
       "    </tr>\n",
       "  </thead>\n",
       "  <tbody>\n",
       "    <tr>\n",
       "      <th>0</th>\n",
       "      <td>70</td>\n",
       "      <td>1.514</td>\n",
       "    </tr>\n",
       "    <tr>\n",
       "      <th>1</th>\n",
       "      <td>90</td>\n",
       "      <td>0.507</td>\n",
       "    </tr>\n",
       "    <tr>\n",
       "      <th>2</th>\n",
       "      <td>110</td>\n",
       "      <td>0.153</td>\n",
       "    </tr>\n",
       "    <tr>\n",
       "      <th>3</th>\n",
       "      <td>120</td>\n",
       "      <td>13.500</td>\n",
       "    </tr>\n",
       "    <tr>\n",
       "      <th>4</th>\n",
       "      <td>130</td>\n",
       "      <td>38.350</td>\n",
       "    </tr>\n",
       "    <tr>\n",
       "      <th>5</th>\n",
       "      <td>140</td>\n",
       "      <td>127.600</td>\n",
       "    </tr>\n",
       "    <tr>\n",
       "      <th>6</th>\n",
       "      <td>150</td>\n",
       "      <td>23.470</td>\n",
       "    </tr>\n",
       "    <tr>\n",
       "      <th>7</th>\n",
       "      <td>160</td>\n",
       "      <td>31.190</td>\n",
       "    </tr>\n",
       "    <tr>\n",
       "      <th>8</th>\n",
       "      <td>170</td>\n",
       "      <td>87.750</td>\n",
       "    </tr>\n",
       "    <tr>\n",
       "      <th>9</th>\n",
       "      <td>180</td>\n",
       "      <td>25.180</td>\n",
       "    </tr>\n",
       "    <tr>\n",
       "      <th>10</th>\n",
       "      <td>190</td>\n",
       "      <td>41.440</td>\n",
       "    </tr>\n",
       "    <tr>\n",
       "      <th>11</th>\n",
       "      <td>200</td>\n",
       "      <td>26.640</td>\n",
       "    </tr>\n",
       "    <tr>\n",
       "      <th>12</th>\n",
       "      <td>210</td>\n",
       "      <td>26.310</td>\n",
       "    </tr>\n",
       "    <tr>\n",
       "      <th>13</th>\n",
       "      <td>220</td>\n",
       "      <td>19.760</td>\n",
       "    </tr>\n",
       "    <tr>\n",
       "      <th>14</th>\n",
       "      <td>230</td>\n",
       "      <td>13.500</td>\n",
       "    </tr>\n",
       "    <tr>\n",
       "      <th>15</th>\n",
       "      <td>240</td>\n",
       "      <td>15.370</td>\n",
       "    </tr>\n",
       "    <tr>\n",
       "      <th>16</th>\n",
       "      <td>250</td>\n",
       "      <td>12.051</td>\n",
       "    </tr>\n",
       "    <tr>\n",
       "      <th>17</th>\n",
       "      <td>260</td>\n",
       "      <td>3.329</td>\n",
       "    </tr>\n",
       "    <tr>\n",
       "      <th>18</th>\n",
       "      <td>270</td>\n",
       "      <td>0.419</td>\n",
       "    </tr>\n",
       "    <tr>\n",
       "      <th>19</th>\n",
       "      <td>280</td>\n",
       "      <td>1.250</td>\n",
       "    </tr>\n",
       "    <tr>\n",
       "      <th>20</th>\n",
       "      <td>300</td>\n",
       "      <td>4.150</td>\n",
       "    </tr>\n",
       "    <tr>\n",
       "      <th>21</th>\n",
       "      <td>320</td>\n",
       "      <td>0.147</td>\n",
       "    </tr>\n",
       "    <tr>\n",
       "      <th>22</th>\n",
       "      <td>350</td>\n",
       "      <td>0.216</td>\n",
       "    </tr>\n",
       "    <tr>\n",
       "      <th>23</th>\n",
       "      <td>400</td>\n",
       "      <td>0.050</td>\n",
       "    </tr>\n",
       "    <tr>\n",
       "      <th>24</th>\n",
       "      <td>450</td>\n",
       "      <td>0.134</td>\n",
       "    </tr>\n",
       "    <tr>\n",
       "      <th>25</th>\n",
       "      <td>500</td>\n",
       "      <td>0.045</td>\n",
       "    </tr>\n",
       "    <tr>\n",
       "      <th>26</th>\n",
       "      <td>550</td>\n",
       "      <td>0.138</td>\n",
       "    </tr>\n",
       "    <tr>\n",
       "      <th>27</th>\n",
       "      <td>600</td>\n",
       "      <td>0.041</td>\n",
       "    </tr>\n",
       "  </tbody>\n",
       "</table>\n",
       "</div>"
      ],
      "text/plain": [
       "    Frequency (GHz)  Vlockin (microvolts)\n",
       "0                70                 1.514\n",
       "1                90                 0.507\n",
       "2               110                 0.153\n",
       "3               120                13.500\n",
       "4               130                38.350\n",
       "5               140               127.600\n",
       "6               150                23.470\n",
       "7               160                31.190\n",
       "8               170                87.750\n",
       "9               180                25.180\n",
       "10              190                41.440\n",
       "11              200                26.640\n",
       "12              210                26.310\n",
       "13              220                19.760\n",
       "14              230                13.500\n",
       "15              240                15.370\n",
       "16              250                12.051\n",
       "17              260                 3.329\n",
       "18              270                 0.419\n",
       "19              280                 1.250\n",
       "20              300                 4.150\n",
       "21              320                 0.147\n",
       "22              350                 0.216\n",
       "23              400                 0.050\n",
       "24              450                 0.134\n",
       "25              500                 0.045\n",
       "26              550                 0.138\n",
       "27              600                 0.041"
      ]
     },
     "execution_count": 8,
     "metadata": {},
     "output_type": "execute_result"
    }
   ],
   "source": [
    "#save to csv\n",
    "csv_file = 'f_vs_vlockin_table.csv'\n",
    "df.to_csv(csv_file, index = False)\n",
    "print(f\"The data has been saved to {csv_file}, previous file may have been overwritten.\")\n",
    "pd.read_csv(csv_file)"
   ]
  },
  {
   "cell_type": "code",
   "execution_count": 9,
   "id": "941abedd-63ab-4152-82c8-887b0eadb3f1",
   "metadata": {
    "scrolled": true
   },
   "outputs": [
    {
     "name": "stdout",
     "output_type": "stream",
     "text": [
      "The data has been saved to f_vs_vlockin_scatterplot.png, previous file may have been overwritten.\n"
     ]
    },
    {
     "data": {
      "image/png": "[encoded data removed]",
      "text/plain": [
       "<Figure size 1000x600 with 1 Axes>"
      ]
     },
     "metadata": {},
     "output_type": "display_data"
    }
   ],
   "source": [
    "#plot f vs. entered Vlockin on w/ log scale\n",
    "plt.figure(figsize = (10, 6))\n",
    "plt.scatter(df['Frequency (GHz)'], df['Vlockin (microvolts)'])\n",
    "plt.yscale('log')\n",
    "plt.xlabel('Frequency (GHz)')\n",
    "plt.ylabel('Vlockin (microvolts)')\n",
    "plt.title('f vs. Vlockin')\n",
    "#save to png\n",
    "plot_file = 'f_vs_vlockin_scatterplot.png'\n",
    "plt.savefig(plot_file)\n",
    "print(f\"The data has been saved to {plot_file}, previous file may have been overwritten.\")\n",
    "#display the plot\n",
    "plt.show()"
   ]
  },
  {
   "cell_type": "code",
   "execution_count": 10,
   "id": "b64c72f5-e3e4-4536-8c9d-9111fc34cf1f",
   "metadata": {},
   "outputs": [
    {
     "name": "stdout",
     "output_type": "stream",
     "text": [
      "Bias Amplitude and Offset should read 0\n",
      "Current Bias Amplitude (V): 0\n",
      "Current Bias Offset (V): 0\n"
     ]
    }
   ],
   "source": [
    "#set bias amplitude and offset to zero\n",
    "with Client(SerialConnection('COM3')) as client:\n",
    "    client.set('lockin:mod-out-amplitude', 0)\n",
    "    client.set('lockin:mod-out-offset', 0)\n",
    "    print (\"Bias Amplitude and Offset should read 0\")\n",
    "    print (\"Current Bias Amplitude (V):\", client.get('lockin:mod-out-amplitude'))\n",
    "    print (\"Current Bias Offset (V):\",client.get('lockin:mod-out-offset'))\n",
    "#wait 5 secs for DLC smart to adjust\n",
    "time.sleep(5)"
   ]
  },
  {
   "cell_type": "code",
   "execution_count": 11,
   "id": "7e9a5ca9-6816-42fc-bc4d-30bb75ff55c0",
   "metadata": {},
   "outputs": [
    {
     "name": "stdout",
     "output_type": "stream",
     "text": [
      "Lasers should be off (check emission lights).\n"
     ]
    }
   ],
   "source": [
    "#turn off lasers\n",
    "with Client(SerialConnection('COM3')) as client:\n",
    "    client.set('laser-operation:emission-global-enable', False)\n",
    "    print (\"Lasers should be off (check emission lights).\")"
   ]
  }
 ],
 "metadata": {
  "kernelspec": {
   "display_name": "anl",
   "language": "python",
   "name": "anl"
  },
  "language_info": {
   "codemirror_mode": {
    "name": "ipython",
    "version": 3
   },
   "file_extension": ".py",
   "mimetype": "text/x-python",
   "name": "python",
   "nbconvert_exporter": "python",
   "pygments_lexer": "ipython3",
   "version": "3.12.3"
  }
 },
 "nbformat": 4,
 "nbformat_minor": 5
}
