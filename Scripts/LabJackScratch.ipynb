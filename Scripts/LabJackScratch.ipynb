{
 "cells": [
  {
   "cell_type": "code",
   "execution_count": 1,
   "id": "3304eee9-4270-45d9-adfe-39e60f798804",
   "metadata": {},
   "outputs": [],
   "source": [
    "from labjack import ljm\n"
   ]
  },
  {
   "cell_type": "code",
   "execution_count": 11,
   "id": "43a583a5-9e42-407b-8e21-bfa84252c959",
   "metadata": {},
   "outputs": [
    {
     "name": "stdout",
     "output_type": "stream",
     "text": [
      "Opened a LabJack with Device type: 7, Connection type: 1,\n",
      "Serial number: 470035776, IP address: 0.0.0.0, Port: 0,\n",
      "Max bytes per MB: 64\n",
      "\n",
      "eReadNames results: \n",
      "    Name - SERIAL_NUMBER, value : 470035776.000000\n",
      "    Name - PRODUCT_ID, value : 7.000000\n",
      "    Name - FIRMWARE_VERSION, value : 1.029900\n",
      "    Name - AIN0, value : 0.180156\n"
     ]
    }
   ],
   "source": [
    "# Open first found LabJack\n",
    "handle = ljm.openS(\"ANY\", \"ANY\", \"ANY\")  # Any device, Any connection, Any identifier\n",
    "#handle = ljm.openS(\"T8\", \"ANY\", \"ANY\")  # T8 device, Any connection, Any identifier\n",
    "#handle = ljm.openS(\"T7\", \"ANY\", \"ANY\")  # T7 device, Any connection, Any identifier\n",
    "#handle = ljm.openS(\"T4\", \"ANY\", \"ANY\")  # T4 device, Any connection, Any identifier\n",
    "#handle = ljm.open(ljm.constants.dtANY, ljm.constants.ctANY, \"ANY\")  # Any device, Any connection, Any identifier\n",
    "\n",
    "info = ljm.getHandleInfo(handle)\n",
    "print(\"Opened a LabJack with Device type: %i, Connection type: %i,\\n\"\n",
    "      \"Serial number: %i, IP address: %s, Port: %i,\\nMax bytes per MB: %i\" %\n",
    "      (info[0], info[1], info[2], ljm.numberToIP(info[3]), info[4], info[5]))\n",
    "\n",
    "# Setup and call eReadNames to read values from the LabJack.\n",
    "numFrames = 4\n",
    "names = [\"SERIAL_NUMBER\", \"PRODUCT_ID\", \"FIRMWARE_VERSION\", \"AIN0\"]\n",
    "results = ljm.eReadNames(handle, numFrames, names)\n",
    "\n",
    "print(\"\\neReadNames results: \")\n",
    "for i in range(numFrames):\n",
    "    print(\"    Name - %s, value : %f\" % (names[i], results[i]))\n",
    "\n",
    "# Close handle\n",
    "#ljm.close(handle)"
   ]
  },
  {
   "cell_type": "code",
   "execution_count": 14,
   "id": "aa49d933-080c-48b6-8a9e-25d8972a7420",
   "metadata": {},
   "outputs": [
    {
     "ename": "LJMError",
     "evalue": "LJM library error code 1224 LJME_DEVICE_NOT_OPEN",
     "output_type": "error",
     "traceback": [
      "\u001b[1;31m---------------------------------------------------------------------------\u001b[0m",
      "\u001b[1;31mLJMError\u001b[0m                                  Traceback (most recent call last)",
      "Cell \u001b[1;32mIn[14], line 1\u001b[0m\n\u001b[1;32m----> 1\u001b[0m ljm\u001b[38;5;241m.\u001b[39mclose(handle)\n",
      "File \u001b[1;32m~\\AppData\\Local\\anaconda3\\envs\\PROWLS_work\\Lib\\site-packages\\labjack\\ljm\\ljm.py:452\u001b[0m, in \u001b[0;36mclose\u001b[1;34m(handle)\u001b[0m\n\u001b[0;32m    450\u001b[0m error \u001b[38;5;241m=\u001b[39m _staticLib\u001b[38;5;241m.\u001b[39mLJM_Close(handle)\n\u001b[0;32m    451\u001b[0m \u001b[38;5;28;01mif\u001b[39;00m error \u001b[38;5;241m!=\u001b[39m errorcodes\u001b[38;5;241m.\u001b[39mNOERROR:\n\u001b[1;32m--> 452\u001b[0m     \u001b[38;5;28;01mraise\u001b[39;00m LJMError(error)\n",
      "\u001b[1;31mLJMError\u001b[0m: LJM library error code 1224 LJME_DEVICE_NOT_OPEN"
     ]
    }
   ],
   "source": [
    "ljm.close(handle)"
   ]
  }
 ],
 "metadata": {
  "kernelspec": {
   "display_name": "Python 3 (ipykernel)",
   "language": "python",
   "name": "python3"
  },
  "language_info": {
   "codemirror_mode": {
    "name": "ipython",
    "version": 3
   },
   "file_extension": ".py",
   "mimetype": "text/x-python",
   "name": "python",
   "nbconvert_exporter": "python",
   "pygments_lexer": "ipython3",
   "version": "3.11.5"
  }
 },
 "nbformat": 4,
 "nbformat_minor": 5
}
