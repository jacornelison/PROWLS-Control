{
 "cells": [
  {
   "cell_type": "code",
   "execution_count": 1,
   "id": "64dda238-dd44-4eec-846f-7086a9948977",
   "metadata": {},
   "outputs": [
    {
     "name": "stdout",
     "output_type": "stream",
     "text": [
      "Connected instrument: ('ASRL5::INSTR', 'GPIB0::4::INSTR', 'GPIB0::8::INSTR')\n",
      "Instrument ID: Stanford_Research_Systems,SR830,s/n46458,ver1.07 \n",
      "\n"
     ]
    }
   ],
   "source": [
    "import pyvisa\n",
    "rm = pyvisa.ResourceManager()\n",
    "instrument = rm.list_resources()\n",
    "print(\"Connected instrument:\", instrument)\n",
    "sr830_address = 'GPIB0::8::INSTR'\n",
    "sr830 = rm.open_resource(sr830_address)\n",
    "idn = sr830.query('*IDN?')\n",
    "print(\"Instrument ID:\", idn)"
   ]
  },
  {
   "cell_type": "code",
   "execution_count": 2,
   "id": "17247a4d-e6ae-4261-91de-d24dd4df5e57",
   "metadata": {},
   "outputs": [
    {
     "name": "stdout",
     "output_type": "stream",
     "text": [
      "Reference Frequency: 999.968\n",
      "\n"
     ]
    }
   ],
   "source": [
    "#Set Reference Frequency\n",
    "sr830.write('FREQ 1000')\n",
    "freq = sr830.query('FREQ?')\n",
    "print(\"Reference Frequency:\", freq)"
   ]
  },
  {
   "cell_type": "code",
   "execution_count": 2,
   "id": "4e5f0e48-d90f-4180-b0e5-505f563d7d3c",
   "metadata": {},
   "outputs": [],
   "source": [
    "from LockinControl import LockinControl\n",
    "lc = LockinControl(sr830)"
   ]
  },
  {
   "cell_type": "code",
   "execution_count": 3,
   "id": "4954b538-21ce-42d8-af7d-8a88fdaf67eb",
   "metadata": {},
   "outputs": [
    {
     "data": {
      "text/plain": [
       "[3.31553e-07, 1.56463e-07, 3.6508e-07, 24.228]"
      ]
     },
     "execution_count": 3,
     "metadata": {},
     "output_type": "execute_result"
    }
   ],
   "source": [
    "lc.get_output()"
   ]
  }
 ],
 "metadata": {
  "kernelspec": {
   "display_name": "Python 3 (ipykernel)",
   "language": "python",
   "name": "python3"
  },
  "language_info": {
   "codemirror_mode": {
    "name": "ipython",
    "version": 3
   },
   "file_extension": ".py",
   "mimetype": "text/x-python",
   "name": "python",
   "nbconvert_exporter": "python",
   "pygments_lexer": "ipython3",
   "version": "3.11.13"
  }
 },
 "nbformat": 4,
 "nbformat_minor": 5
}
