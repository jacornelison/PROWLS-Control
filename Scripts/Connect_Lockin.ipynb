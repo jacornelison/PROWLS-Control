{
 "cells": [
  {
   "cell_type": "code",
   "execution_count": 25,
   "id": "64dda238-dd44-4eec-846f-7086a9948977",
   "metadata": {},
   "outputs": [
    {
     "name": "stdout",
     "output_type": "stream",
     "text": [
      "Connected instrument: ('GPIB0::8::INSTR',)\n",
      "Instrument ID: Stanford_Research_Systems,SR830,s/n46458,ver1.07 \n",
      "\n"
     ]
    }
   ],
   "source": [
    "import pyvisa\n",
    "rm = pyvisa.ResourceManager()\n",
    "instrument = rm.list_resources()\n",
    "print(\"Connected instrument:\", instrument)\n",
    "sr830_address = 'GPIB0::8::INSTR'\n",
    "sr830 = rm.open_resource(sr830_address)\n",
    "idn = sr830.query('*IDN?')\n",
    "print(\"Instrument ID:\", idn)"
   ]
  },
  {
   "cell_type": "code",
   "execution_count": 26,
   "id": "17247a4d-e6ae-4261-91de-d24dd4df5e57",
   "metadata": {},
   "outputs": [
    {
     "name": "stdout",
     "output_type": "stream",
     "text": [
      "Reference Frequency: 1000\n",
      "\n"
     ]
    }
   ],
   "source": [
    "#Set Reference Frequency\n",
    "sr830.write('FREQ 1000')\n",
    "freq = sr830.query('FREQ?')\n",
    "print(\"Reference Frequency:\", freq)"
   ]
  }
 ],
 "metadata": {
  "kernelspec": {
   "display_name": "anl",
   "language": "python",
   "name": "anl"
  },
  "language_info": {
   "codemirror_mode": {
    "name": "ipython",
    "version": 3
   },
   "file_extension": ".py",
   "mimetype": "text/x-python",
   "name": "python",
   "nbconvert_exporter": "python",
   "pygments_lexer": "ipython3",
   "version": "3.12.3"
  }
 },
 "nbformat": 4,
 "nbformat_minor": 5
}
