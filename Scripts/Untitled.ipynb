{
 "cells": [
  {
   "cell_type": "code",
   "execution_count": 1,
   "id": "38b92b56-2783-422e-b03a-1311030850ee",
   "metadata": {},
   "outputs": [],
   "source": [
    "from ProwlsControl import ProwlsControl\n",
    "pc = ProwlsControl(port='COM5')\n",
    "pc.laser_toggle_on()"
   ]
  },
  {
   "cell_type": "code",
   "execution_count": 2,
   "id": "957ac351-48d2-4614-b125-190e82a0742e",
   "metadata": {},
   "outputs": [
    {
     "name": "stdout",
     "output_type": "stream",
     "text": [
      "120.0\n",
      "121.0\n",
      "122.0\n",
      "                Time   Frequency  Lockin X Lockin Y  Lockin R Lockin Theta\n",
      "0  1753384872.091085  119.992534  0.000024     -0.0  0.000024    -0.289385\n",
      "1  1753384875.162083  121.001441  0.000019     -0.0  0.000019    -0.172615\n",
      "2  1753384878.174119  122.003024  0.000043     -0.0  0.000043        -0.18\n"
     ]
    }
   ],
   "source": [
    "print(pc.scan(120,122,1))\n"
   ]
  },
  {
   "cell_type": "code",
   "execution_count": 5,
   "id": "19c8b7bb-fa20-47dc-ab2b-51bb26716401",
   "metadata": {},
   "outputs": [],
   "source": [
    "\n",
    "\n"
   ]
  }
 ],
 "metadata": {
  "kernelspec": {
   "display_name": "Python 3 (ipykernel)",
   "language": "python",
   "name": "python3"
  },
  "language_info": {
   "codemirror_mode": {
    "name": "ipython",
    "version": 3
   },
   "file_extension": ".py",
   "mimetype": "text/x-python",
   "name": "python",
   "nbconvert_exporter": "python",
   "pygments_lexer": "ipython3",
   "version": "3.11.13"
  }
 },
 "nbformat": 4,
 "nbformat_minor": 5
}
